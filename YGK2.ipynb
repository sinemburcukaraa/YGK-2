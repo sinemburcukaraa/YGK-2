{
 "cells": [
  {
   "cell_type": "markdown",
   "id": "3ffe8118-1886-498c-8ac6-e9940ea19cb5",
   "metadata": {},
   "source": [
    "# Question 1"
   ]
  },
  {
   "cell_type": "code",
   "execution_count": 1,
   "id": "2708e339-ab8d-4b1d-a6d6-7358c1286b9f",
   "metadata": {},
   "outputs": [
    {
     "name": "stdin",
     "output_type": "stream",
     "text": [
      "Maasinizi giriniz:  1000\n"
     ]
    }
   ],
   "source": [
    "maas = float(input(\"Maasinizi giriniz: \"))"
   ]
  },
  {
   "cell_type": "code",
   "execution_count": 3,
   "id": "a0b78f39-9251-4b46-872d-377d40cc084a",
   "metadata": {},
   "outputs": [],
   "source": [
    "if maas <= 10000:\n",
    "    vergi_orani = 0.05\n",
    "elif maas <= 25000:\n",
    "    vergi_orani = 0.10\n",
    "elif maas <= 45000:\n",
    "    vergi_orani = 0.25\n",
    "else:\n",
    "    vergi_orani = 0.30"
   ]
  },
  {
   "cell_type": "code",
   "execution_count": 5,
   "id": "a41c227f-fc83-4fec-aaf3-814f6515f3f5",
   "metadata": {},
   "outputs": [],
   "source": [
    "vergi_miktari = maas * vergi_orani\n",
    "yeni_maas = maas - vergi_miktari"
   ]
  },
  {
   "cell_type": "code",
   "execution_count": 7,
   "id": "472232e9-a1f3-4e10-9684-11ad0dc4f639",
   "metadata": {},
   "outputs": [
    {
     "name": "stdout",
     "output_type": "stream",
     "text": [
      "Vergi oranı: %5.0\n",
      "Vergi miktarı: 50.0 TL\n",
      "Yeni maaşınız: 950.0 TL\n"
     ]
    }
   ],
   "source": [
    "print(f\"Vergi oranı: %{vergi_orani * 100}\")\n",
    "print(f\"Vergi miktarı: {vergi_miktari} TL\")\n",
    "print(f\"Yeni maaşınız: {yeni_maas} TL\")"
   ]
  },
  {
   "cell_type": "markdown",
   "id": "c61350f3-33a8-4f29-8068-f9986c56d93f",
   "metadata": {},
   "source": [
    "# Question 2"
   ]
  },
  {
   "cell_type": "code",
   "execution_count": 10,
   "id": "8d68c537-eca5-4461-8cf3-5d159b1aaedd",
   "metadata": {},
   "outputs": [
    {
     "name": "stdin",
     "output_type": "stream",
     "text": [
      "kullanıcı adını giriniz: burcu\n",
      "sifrenizi giriniz: 1234\n"
     ]
    }
   ],
   "source": [
    "user_name=input(\"kullanıcı adını giriniz:\")\n",
    "password = input(\"sifrenizi giriniz:\")"
   ]
  },
  {
   "cell_type": "code",
   "execution_count": 12,
   "id": "ad2f31ab-7a50-4b06-b124-e2aa4c1c0343",
   "metadata": {},
   "outputs": [
    {
     "name": "stdout",
     "output_type": "stream",
     "text": [
      "şifreniz en az 6 haneli olmalı\n"
     ]
    }
   ],
   "source": [
    "if len(password) >= 6:\n",
    "    print(\"Hesabınız oluşturuldu\")\n",
    "else:\n",
    "    print(\"şifreniz en az 6 haneli olmalı\")"
   ]
  },
  {
   "cell_type": "markdown",
   "id": "3a1460ff-b75b-4248-9f9f-2edbb9f36762",
   "metadata": {},
   "source": [
    "# Question 3"
   ]
  },
  {
   "cell_type": "code",
   "execution_count": 3,
   "id": "e58ebe7a-a6bf-442d-b9d9-765544b1c93e",
   "metadata": {},
   "outputs": [
    {
     "name": "stdin",
     "output_type": "stream",
     "text": [
      "Kullanıcı adınızı giriniz:  burcu\n",
      "Şifrenizi giriniz:  1234567\n"
     ]
    },
    {
     "name": "stdout",
     "output_type": "stream",
     "text": [
      "Hesabınız oluşturuldu.\n"
     ]
    }
   ],
   "source": [
    "userName = input(\"Kullanıcı adınızı giriniz: \")\n",
    "\n",
    "while True:\n",
    "    password = input(\"Şifrenizi giriniz: \")\n",
    "    if 5 < len(password) < 11:\n",
    "        print(\"Hesabınız oluşturuldu.\")\n",
    "        break\n",
    "    else:\n",
    "        print(\"Lütfen girdiniz şifre 5 haneden az 10 haneden fazla olmasın!\")"
   ]
  },
  {
   "cell_type": "code",
   "execution_count": 5,
   "id": "461ffe36-2fe4-4c5b-b211-1f09a247d79e",
   "metadata": {},
   "outputs": [
    {
     "name": "stdin",
     "output_type": "stream",
     "text": [
      "İsminizi giriniz:  burcu\n",
      "Şifrenizi giriniz:  1234567\n"
     ]
    },
    {
     "name": "stdout",
     "output_type": "stream",
     "text": [
      "Giriş yapıldı.\n"
     ]
    }
   ],
   "source": [
    "isim = input(\"İsminizi giriniz: \")\n",
    "hak_sayisi = 3\n",
    "\n",
    "while hak_sayisi > 0:\n",
    "    sifre = input(\"Şifrenizi giriniz: \")\n",
    "    if sifre == password:\n",
    "        print(\"Giriş yapıldı.\")\n",
    "        break\n",
    "    else:\n",
    "        hak_sayisi -= 1\n",
    "        print(\"Yanlış şifre girildi!\")\n",
    "        if hak_sayisi > 0:\n",
    "            print(f\"Kalan deneme hakkınız: {hak_sayisi}\")\n",
    "        else:\n",
    "            print(\"Üç yanlış deneme! Program sona erdi.\")"
   ]
  },
  {
   "cell_type": "code",
   "execution_count": null,
   "id": "2630da9e-95a0-4fdf-8c4c-473d4370b597",
   "metadata": {},
   "outputs": [],
   "source": []
  }
 ],
 "metadata": {
  "kernelspec": {
   "display_name": "Python 3 (ipykernel)",
   "language": "python",
   "name": "python3"
  },
  "language_info": {
   "codemirror_mode": {
    "name": "ipython",
    "version": 3
   },
   "file_extension": ".py",
   "mimetype": "text/x-python",
   "name": "python",
   "nbconvert_exporter": "python",
   "pygments_lexer": "ipython3",
   "version": "3.12.4"
  }
 },
 "nbformat": 4,
 "nbformat_minor": 5
}
